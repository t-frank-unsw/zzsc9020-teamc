{
 "cells": [
  {
   "cell_type": "markdown",
   "metadata": {
    "id": "KvzS9oPYBJQZ"
   },
   "source": [
    "<a href=\"https://colab.research.google.com/github/UNSW-ZZSC9020/project/blob/main/src/GoogleColab.ipynb\" target=\"_parent\">\n",
    "  <img src=\"https://colab.research.google.com/assets/colab-badge.svg\" alt=\"Open In Colab\"/>\n",
    "</a>"
   ]
  },
  {
   "cell_type": "markdown",
   "metadata": {},
   "source": [
    "# Welcome to ZZSC9020\n",
    "\n",
    "This Python notebook shows how to clone the course GitHub repository on Google Colab.\n",
    "\n",
    "You can develop your data analysis on Google Colab without downloading the data to your computer."
   ]
  },
  {
   "cell_type": "code",
   "execution_count": 12,
   "metadata": {
    "id": "44VdVtiX7Ukn"
   },
   "outputs": [],
   "source": [
    "# Joint forecastdemand_nsw files into a single file. \n",
    "!cat data/NSW/forecastdemand_nsw.csv.zip.part* > data/NSW/forecastdemand_nsw.csv.zip"
   ]
  },
  {
   "cell_type": "code",
   "execution_count": 13,
   "metadata": {
    "colab": {
     "base_uri": "https://localhost:8080/"
    },
    "id": "GdnC6dlz8agZ",
    "outputId": "fee967de-019b-44d9-83c0-526577b1baf0"
   },
   "outputs": [
    {
     "name": "stdout",
     "output_type": "stream",
     "text": [
      "rm: data/forecastdemand_nsw.csv: No such file or directory\n",
      "rm: data/temperature_nsw.csv: No such file or directory\n",
      "rm: data/totaldemand_nsw.csv: No such file or directory\n",
      "Archive:  data/NSW/forecastdemand_nsw.csv.zip\n",
      "  inflating: data/forecastdemand_nsw.csv  \n",
      "Archive:  data/NSW/temperature_nsw.csv.zip\n",
      "  inflating: data/temperature_nsw.csv  \n",
      "Archive:  data/NSW/totaldemand_nsw.csv.zip\n",
      "  inflating: data/totaldemand_nsw.csv  \n",
      "total 1472064\n",
      "drwxr-xr-x@ 6 liammitrodobson  staff   192B Aug 31 13:14 \u001b[34mNSW\u001b[m\u001b[m\n",
      "-rw-rw-r--@ 1 liammitrodobson  staff   705M Apr 21  2021 forecastdemand_nsw.csv\n",
      "-rw-rw-r--@ 1 liammitrodobson  staff   6.6M Apr 21  2021 temperature_nsw.csv\n",
      "-rw-rw-r--@ 1 liammitrodobson  staff   5.5M Apr 21  2021 totaldemand_nsw.csv\n"
     ]
    }
   ],
   "source": [
    "# Remove data files if already present in the data folder\n",
    "!rm data/forecastdemand_nsw.csv\n",
    "!rm data/temperature_nsw.csv\n",
    "!rm data/totaldemand_nsw.csv\n",
    "\n",
    "# Unzip the data files into the data folder\n",
    "!unzip data/NSW/forecastdemand_nsw.csv.zip -d data\n",
    "!unzip data/NSW/temperature_nsw.csv.zip -d data\n",
    "!unzip data/NSW/totaldemand_nsw.csv.zip -d data\n",
    "\n",
    "# Remove forecastdemand_nsw.csv.zip\n",
    "!rm data/NSW/forecastdemand_nsw.csv.zip\n",
    "\n",
    "# Quick check: list the data files\n",
    "!ls -lh data\n"
   ]
  }
 ],
 "metadata": {
  "colab": {
   "collapsed_sections": [],
   "name": "GoogleColab.ipynb",
   "provenance": []
  },
  "kernelspec": {
   "display_name": "Python 3",
   "language": "python",
   "name": "python3"
  },
  "language_info": {
   "codemirror_mode": {
    "name": "ipython",
    "version": 3
   },
   "file_extension": ".py",
   "mimetype": "text/x-python",
   "name": "python",
   "nbconvert_exporter": "python",
   "pygments_lexer": "ipython3",
   "version": "3.9.6"
  }
 },
 "nbformat": 4,
 "nbformat_minor": 1
}
